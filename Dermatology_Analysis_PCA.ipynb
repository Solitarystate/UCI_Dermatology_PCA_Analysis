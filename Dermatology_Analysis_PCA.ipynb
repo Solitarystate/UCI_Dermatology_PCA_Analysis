{
 "cells": [
  {
   "cell_type": "markdown",
   "metadata": {},
   "source": [
    "# Principal Component Analysis - Dermatology Dataset UCI"
   ]
  },
  {
   "cell_type": "code",
   "execution_count": 1,
   "metadata": {},
   "outputs": [],
   "source": [
    "import matplotlib.pyplot as plt\n",
    "import pandas as pd\n",
    "import numpy as np\n",
    "import seaborn as sns\n",
    "%matplotlib inline"
   ]
  },
  {
   "cell_type": "markdown",
   "metadata": {},
   "source": [
    "This dataset is taken from 'http://archive.ics.uci.edu/ml/machine-learning-databases/dermatology'. This analysis intends to identify the most important features of the dataset that contribute to making a prediction for a specific type of dermatologic disease from the given list. The below detail information can be found on 'http://archive.ics.uci.edu/ml/machine-learning-databases/dermatology/dermatology.names'\n",
    "\n",
    "1. Title: Dermatology Database\n",
    "\n",
    "2. Source Information:\n",
    "   (a) Original owners:\n",
    "       -- 1. Nilsel Ilter, M.D., Ph.D., \n",
    "             Gazi University, \n",
    "             School of Medicine\n",
    "             06510 Ankara, Turkey\n",
    "             Phone: +90 (312) 214 1080\n",
    "\n",
    "       -- 2. H. Altay Guvenir, PhD., \n",
    "             Bilkent University,\n",
    "             Department of Computer Engineering and Information Science,\n",
    "             06533 Ankara, Turkey\n",
    "             Phone: +90 (312) 266 4133\n",
    "             Email: guvenir@cs.bilkent.edu.tr\n",
    "\n",
    "   (b) Donor: H. Altay Guvenir,\n",
    "              Bilkent University,\n",
    "              Department of Computer Engineering and Information Science,\n",
    "              06533 Ankara, Turkey\n",
    "              Phone: +90 (312) 266 4133\n",
    "              Email: guvenir@cs.bilkent.edu.tr\n",
    "\n",
    "   (c) Date:  January, 1998\n",
    "\n",
    "3. Past Usage:\n",
    "   1. G. Demiroz, H. A. Govenir, and N. Ilter, \n",
    "      \"Learning Differential Diagnosis of Eryhemato-Squamous Diseases using\n",
    "       Voting Feature Intervals\", Aritificial Intelligence in Medicine,\n",
    "\n",
    "      The aim is to determine the type of Eryhemato-Squamous Disease.\n",
    "\n",
    "4. Relevant Information:\n",
    "     This database contains 34 attributes, 33 of which are linear\n",
    "     valued and one of them is nominal. \n",
    "\n",
    "     The differential diagnosis of erythemato-squamous diseases is a real\n",
    "     problem in dermatology. They all share the clinical features of\n",
    "     erythema and scaling, with very little differences. The diseases in\n",
    "     this group are psoriasis, seboreic dermatitis, lichen planus, \n",
    "     pityriasis rosea, cronic dermatitis, and pityriasis rubra pilaris.\n",
    "     Usually a biopsy is necessary for the diagnosis but unfortunately\n",
    "     these diseases share many histopathological features as\n",
    "     well. Another difficulty for the differential diagnosis is that a\n",
    "     disease may show the features of another disease at the beginning\n",
    "     stage and may have the characteristic features at the following stages. \n",
    "     Patients were first evaluated clinically with 12 features.\n",
    "     Afterwards, skin samples were taken for the evaluation of 22\n",
    "     histopathological features. The values of the histopathological features\n",
    "     are determined by an analysis of the samples under a microscope. \n",
    "\n",
    "     In the dataset constructed for this domain, the family history feature\n",
    "     has the value 1 if any of these diseases has been observed in the\n",
    "     family, and 0 otherwise. The age feature simply represents the age of\n",
    "     the patient. Every other feature (clinical and histopathological) was\n",
    "     given a degree in the range of 0 to 3. Here, 0 indicates that the\n",
    "     feature was not present, 3 indicates the largest amount possible,\n",
    "     and 1, 2 indicate the relative intermediate values.\n",
    "\n",
    "     The names and id numbers of the patients were recently \n",
    "     removed from the database.\n",
    "\n",
    "5. Number of Instances: 366\n",
    "\n",
    "6. Number of Attributes: 34\n",
    "\n",
    "7. Attribute Information:\n",
    "   -- Complete attribute documentation:\n",
    "      Clinical Attributes: (take values 0, 1, 2, 3, unless otherwise indicated)\n",
    "      1: erythema\n",
    "      2: scaling\n",
    "      3: definite borders\n",
    "      4: itching\n",
    "      5: koebner phenomenon\n",
    "      6: polygonal papules\n",
    "      7: follicular papules\n",
    "      8: oral mucosal involvement\n",
    "      9: knee and elbow involvement\n",
    "     10: scalp involvement\n",
    "     11: family history, (0 or 1)\n",
    "     34: Age (linear)\n",
    "\n",
    "     Histopathological Attributes: (take values 0, 1, 2, 3)\n",
    "     12: melanin incontinence\n",
    "     13: eosinophils in the infiltrate\n",
    "     14: PNL infiltrate\n",
    "     15: fibrosis of the papillary dermis\n",
    "     16: exocytosis\n",
    "     17: acanthosis\n",
    "     18: hyperkeratosis\n",
    "     19: parakeratosis\n",
    "     20: clubbing of the rete ridges\n",
    "     21: elongation of the rete ridges\n",
    "     22: thinning of the suprapapillary epidermis\n",
    "     23: spongiform pustule\n",
    "     24: munro microabcess\n",
    "     25: focal hypergranulosis\n",
    "     26: disappearance of the granular layer\n",
    "     27: vacuolisation and damage of basal layer\n",
    "     28: spongiosis\n",
    "     29: saw-tooth appearance of retes\n",
    "     30: follicular horn plug\n",
    "     31: perifollicular parakeratosis\n",
    "     32: inflammatory monoluclear inflitrate\n",
    "     33: band-like infiltrate\n",
    "      \n",
    "8. Missing Attribute Values: 8 (in Age attribute). Distinguished with '?'.\n",
    "\n",
    "9. Class Distribution:\n",
    "       Database:  Dermatology\n",
    "       \n",
    "       Class code:   Class:                  Number of instances:\n",
    "       1             psoriasis\t\t\t    112\n",
    "       2             seboreic dermatitis             61\n",
    "       3             lichen planus                   72\n",
    "       4             pityriasis rosea                49\n",
    "       5             cronic dermatitis               52    \n",
    "       6             pityriasis rubra pilaris        20"
   ]
  },
  {
   "cell_type": "markdown",
   "metadata": {},
   "source": [
    "### Data Importing and Understanding"
   ]
  },
  {
   "cell_type": "code",
   "execution_count": 69,
   "metadata": {},
   "outputs": [],
   "source": [
    "df = pd.read_csv('dermatologydata.csv', delimiter=',')"
   ]
  },
  {
   "cell_type": "code",
   "execution_count": 70,
   "metadata": {},
   "outputs": [
    {
     "data": {
      "text/html": [
       "<div>\n",
       "<style scoped>\n",
       "    .dataframe tbody tr th:only-of-type {\n",
       "        vertical-align: middle;\n",
       "    }\n",
       "\n",
       "    .dataframe tbody tr th {\n",
       "        vertical-align: top;\n",
       "    }\n",
       "\n",
       "    .dataframe thead th {\n",
       "        text-align: right;\n",
       "    }\n",
       "</style>\n",
       "<table border=\"1\" class=\"dataframe\">\n",
       "  <thead>\n",
       "    <tr style=\"text-align: right;\">\n",
       "      <th></th>\n",
       "      <th>2</th>\n",
       "      <th>2.1</th>\n",
       "      <th>0</th>\n",
       "      <th>3</th>\n",
       "      <th>0.1</th>\n",
       "      <th>0.2</th>\n",
       "      <th>0.3</th>\n",
       "      <th>0.4</th>\n",
       "      <th>1</th>\n",
       "      <th>0.5</th>\n",
       "      <th>...</th>\n",
       "      <th>0.19</th>\n",
       "      <th>0.20</th>\n",
       "      <th>3.2</th>\n",
       "      <th>0.21</th>\n",
       "      <th>0.22</th>\n",
       "      <th>0.23</th>\n",
       "      <th>1.1</th>\n",
       "      <th>0.24</th>\n",
       "      <th>55</th>\n",
       "      <th>2.3</th>\n",
       "    </tr>\n",
       "  </thead>\n",
       "  <tbody>\n",
       "    <tr>\n",
       "      <th>0</th>\n",
       "      <td>3</td>\n",
       "      <td>3</td>\n",
       "      <td>3</td>\n",
       "      <td>2</td>\n",
       "      <td>1</td>\n",
       "      <td>0</td>\n",
       "      <td>0</td>\n",
       "      <td>0</td>\n",
       "      <td>1</td>\n",
       "      <td>1</td>\n",
       "      <td>...</td>\n",
       "      <td>0</td>\n",
       "      <td>0</td>\n",
       "      <td>0</td>\n",
       "      <td>0</td>\n",
       "      <td>0</td>\n",
       "      <td>0</td>\n",
       "      <td>1</td>\n",
       "      <td>0</td>\n",
       "      <td>8</td>\n",
       "      <td>1</td>\n",
       "    </tr>\n",
       "    <tr>\n",
       "      <th>1</th>\n",
       "      <td>2</td>\n",
       "      <td>1</td>\n",
       "      <td>2</td>\n",
       "      <td>3</td>\n",
       "      <td>1</td>\n",
       "      <td>3</td>\n",
       "      <td>0</td>\n",
       "      <td>3</td>\n",
       "      <td>0</td>\n",
       "      <td>0</td>\n",
       "      <td>...</td>\n",
       "      <td>0</td>\n",
       "      <td>2</td>\n",
       "      <td>3</td>\n",
       "      <td>2</td>\n",
       "      <td>0</td>\n",
       "      <td>0</td>\n",
       "      <td>2</td>\n",
       "      <td>3</td>\n",
       "      <td>26</td>\n",
       "      <td>3</td>\n",
       "    </tr>\n",
       "    <tr>\n",
       "      <th>2</th>\n",
       "      <td>2</td>\n",
       "      <td>2</td>\n",
       "      <td>2</td>\n",
       "      <td>0</td>\n",
       "      <td>0</td>\n",
       "      <td>0</td>\n",
       "      <td>0</td>\n",
       "      <td>0</td>\n",
       "      <td>3</td>\n",
       "      <td>2</td>\n",
       "      <td>...</td>\n",
       "      <td>3</td>\n",
       "      <td>0</td>\n",
       "      <td>0</td>\n",
       "      <td>0</td>\n",
       "      <td>0</td>\n",
       "      <td>0</td>\n",
       "      <td>3</td>\n",
       "      <td>0</td>\n",
       "      <td>40</td>\n",
       "      <td>1</td>\n",
       "    </tr>\n",
       "    <tr>\n",
       "      <th>3</th>\n",
       "      <td>2</td>\n",
       "      <td>3</td>\n",
       "      <td>2</td>\n",
       "      <td>2</td>\n",
       "      <td>2</td>\n",
       "      <td>2</td>\n",
       "      <td>0</td>\n",
       "      <td>2</td>\n",
       "      <td>0</td>\n",
       "      <td>0</td>\n",
       "      <td>...</td>\n",
       "      <td>2</td>\n",
       "      <td>3</td>\n",
       "      <td>2</td>\n",
       "      <td>3</td>\n",
       "      <td>0</td>\n",
       "      <td>0</td>\n",
       "      <td>2</td>\n",
       "      <td>3</td>\n",
       "      <td>45</td>\n",
       "      <td>3</td>\n",
       "    </tr>\n",
       "    <tr>\n",
       "      <th>4</th>\n",
       "      <td>2</td>\n",
       "      <td>3</td>\n",
       "      <td>2</td>\n",
       "      <td>0</td>\n",
       "      <td>0</td>\n",
       "      <td>0</td>\n",
       "      <td>0</td>\n",
       "      <td>0</td>\n",
       "      <td>0</td>\n",
       "      <td>0</td>\n",
       "      <td>...</td>\n",
       "      <td>0</td>\n",
       "      <td>0</td>\n",
       "      <td>2</td>\n",
       "      <td>0</td>\n",
       "      <td>0</td>\n",
       "      <td>0</td>\n",
       "      <td>1</td>\n",
       "      <td>0</td>\n",
       "      <td>41</td>\n",
       "      <td>2</td>\n",
       "    </tr>\n",
       "  </tbody>\n",
       "</table>\n",
       "<p>5 rows × 35 columns</p>\n",
       "</div>"
      ],
      "text/plain": [
       "   2  2.1  0  3  0.1  0.2  0.3  0.4  1  0.5 ...   0.19  0.20  3.2  0.21  0.22  \\\n",
       "0  3    3  3  2    1    0    0    0  1    1 ...      0     0    0     0     0   \n",
       "1  2    1  2  3    1    3    0    3  0    0 ...      0     2    3     2     0   \n",
       "2  2    2  2  0    0    0    0    0  3    2 ...      3     0    0     0     0   \n",
       "3  2    3  2  2    2    2    0    2  0    0 ...      2     3    2     3     0   \n",
       "4  2    3  2  0    0    0    0    0  0    0 ...      0     0    2     0     0   \n",
       "\n",
       "   0.23  1.1  0.24  55  2.3  \n",
       "0     0    1     0   8    1  \n",
       "1     0    2     3  26    3  \n",
       "2     0    3     0  40    1  \n",
       "3     0    2     3  45    3  \n",
       "4     0    1     0  41    2  \n",
       "\n",
       "[5 rows x 35 columns]"
      ]
     },
     "execution_count": 70,
     "metadata": {},
     "output_type": "execute_result"
    }
   ],
   "source": [
    "df.head()"
   ]
  },
  {
   "cell_type": "code",
   "execution_count": 71,
   "metadata": {},
   "outputs": [
    {
     "data": {
      "text/plain": [
       "(365, 35)"
      ]
     },
     "execution_count": 71,
     "metadata": {},
     "output_type": "execute_result"
    }
   ],
   "source": [
    "df.shape"
   ]
  },
  {
   "cell_type": "code",
   "execution_count": 72,
   "metadata": {},
   "outputs": [],
   "source": [
    "df.columns = ['erythema','scaling', 'definite borders', 'itching', 'koebner phenomenon', 'polygonal papules','follicular papules','oral mucosal involvement','knee and elbow involvement','scalp involvement','family history(0 or 1)','melanin incontinence', 'eosinophils in the infiltrate','PNL infiltrate','fibrosis of the papillary dermis','exocytosis','acanthosis','hyperkeratosis','parakeratosis','dlubbing of the rete ridges','elongation of the rete ridges','thinning of the suprapapillary epidermis','spongiform pustule','munro microabcess','focal hypergranulosis','disappearance of the granular layer','vacuolisation and damage of basal layer','spongiosis','saw-tooth appearance of retes','follicular horn plug','perifollicular parakeratosis','inflammatory monoluclear inflitrate','band-like infiltrate','Age (linear)', 'Classcode']"
   ]
  },
  {
   "cell_type": "code",
   "execution_count": 73,
   "metadata": {},
   "outputs": [
    {
     "data": {
      "text/html": [
       "<div>\n",
       "<style scoped>\n",
       "    .dataframe tbody tr th:only-of-type {\n",
       "        vertical-align: middle;\n",
       "    }\n",
       "\n",
       "    .dataframe tbody tr th {\n",
       "        vertical-align: top;\n",
       "    }\n",
       "\n",
       "    .dataframe thead th {\n",
       "        text-align: right;\n",
       "    }\n",
       "</style>\n",
       "<table border=\"1\" class=\"dataframe\">\n",
       "  <thead>\n",
       "    <tr style=\"text-align: right;\">\n",
       "      <th></th>\n",
       "      <th>erythema</th>\n",
       "      <th>scaling</th>\n",
       "      <th>definite borders</th>\n",
       "      <th>itching</th>\n",
       "      <th>koebner phenomenon</th>\n",
       "      <th>polygonal papules</th>\n",
       "      <th>follicular papules</th>\n",
       "      <th>oral mucosal involvement</th>\n",
       "      <th>knee and elbow involvement</th>\n",
       "      <th>scalp involvement</th>\n",
       "      <th>...</th>\n",
       "      <th>disappearance of the granular layer</th>\n",
       "      <th>vacuolisation and damage of basal layer</th>\n",
       "      <th>spongiosis</th>\n",
       "      <th>saw-tooth appearance of retes</th>\n",
       "      <th>follicular horn plug</th>\n",
       "      <th>perifollicular parakeratosis</th>\n",
       "      <th>inflammatory monoluclear inflitrate</th>\n",
       "      <th>band-like infiltrate</th>\n",
       "      <th>Age (linear)</th>\n",
       "      <th>Classcode</th>\n",
       "    </tr>\n",
       "  </thead>\n",
       "  <tbody>\n",
       "    <tr>\n",
       "      <th>0</th>\n",
       "      <td>3</td>\n",
       "      <td>3</td>\n",
       "      <td>3</td>\n",
       "      <td>2</td>\n",
       "      <td>1</td>\n",
       "      <td>0</td>\n",
       "      <td>0</td>\n",
       "      <td>0</td>\n",
       "      <td>1</td>\n",
       "      <td>1</td>\n",
       "      <td>...</td>\n",
       "      <td>0</td>\n",
       "      <td>0</td>\n",
       "      <td>0</td>\n",
       "      <td>0</td>\n",
       "      <td>0</td>\n",
       "      <td>0</td>\n",
       "      <td>1</td>\n",
       "      <td>0</td>\n",
       "      <td>8</td>\n",
       "      <td>1</td>\n",
       "    </tr>\n",
       "    <tr>\n",
       "      <th>1</th>\n",
       "      <td>2</td>\n",
       "      <td>1</td>\n",
       "      <td>2</td>\n",
       "      <td>3</td>\n",
       "      <td>1</td>\n",
       "      <td>3</td>\n",
       "      <td>0</td>\n",
       "      <td>3</td>\n",
       "      <td>0</td>\n",
       "      <td>0</td>\n",
       "      <td>...</td>\n",
       "      <td>0</td>\n",
       "      <td>2</td>\n",
       "      <td>3</td>\n",
       "      <td>2</td>\n",
       "      <td>0</td>\n",
       "      <td>0</td>\n",
       "      <td>2</td>\n",
       "      <td>3</td>\n",
       "      <td>26</td>\n",
       "      <td>3</td>\n",
       "    </tr>\n",
       "    <tr>\n",
       "      <th>2</th>\n",
       "      <td>2</td>\n",
       "      <td>2</td>\n",
       "      <td>2</td>\n",
       "      <td>0</td>\n",
       "      <td>0</td>\n",
       "      <td>0</td>\n",
       "      <td>0</td>\n",
       "      <td>0</td>\n",
       "      <td>3</td>\n",
       "      <td>2</td>\n",
       "      <td>...</td>\n",
       "      <td>3</td>\n",
       "      <td>0</td>\n",
       "      <td>0</td>\n",
       "      <td>0</td>\n",
       "      <td>0</td>\n",
       "      <td>0</td>\n",
       "      <td>3</td>\n",
       "      <td>0</td>\n",
       "      <td>40</td>\n",
       "      <td>1</td>\n",
       "    </tr>\n",
       "    <tr>\n",
       "      <th>3</th>\n",
       "      <td>2</td>\n",
       "      <td>3</td>\n",
       "      <td>2</td>\n",
       "      <td>2</td>\n",
       "      <td>2</td>\n",
       "      <td>2</td>\n",
       "      <td>0</td>\n",
       "      <td>2</td>\n",
       "      <td>0</td>\n",
       "      <td>0</td>\n",
       "      <td>...</td>\n",
       "      <td>2</td>\n",
       "      <td>3</td>\n",
       "      <td>2</td>\n",
       "      <td>3</td>\n",
       "      <td>0</td>\n",
       "      <td>0</td>\n",
       "      <td>2</td>\n",
       "      <td>3</td>\n",
       "      <td>45</td>\n",
       "      <td>3</td>\n",
       "    </tr>\n",
       "    <tr>\n",
       "      <th>4</th>\n",
       "      <td>2</td>\n",
       "      <td>3</td>\n",
       "      <td>2</td>\n",
       "      <td>0</td>\n",
       "      <td>0</td>\n",
       "      <td>0</td>\n",
       "      <td>0</td>\n",
       "      <td>0</td>\n",
       "      <td>0</td>\n",
       "      <td>0</td>\n",
       "      <td>...</td>\n",
       "      <td>0</td>\n",
       "      <td>0</td>\n",
       "      <td>2</td>\n",
       "      <td>0</td>\n",
       "      <td>0</td>\n",
       "      <td>0</td>\n",
       "      <td>1</td>\n",
       "      <td>0</td>\n",
       "      <td>41</td>\n",
       "      <td>2</td>\n",
       "    </tr>\n",
       "  </tbody>\n",
       "</table>\n",
       "<p>5 rows × 35 columns</p>\n",
       "</div>"
      ],
      "text/plain": [
       "   erythema  scaling  definite borders  itching  koebner phenomenon  \\\n",
       "0         3        3                 3        2                   1   \n",
       "1         2        1                 2        3                   1   \n",
       "2         2        2                 2        0                   0   \n",
       "3         2        3                 2        2                   2   \n",
       "4         2        3                 2        0                   0   \n",
       "\n",
       "   polygonal papules  follicular papules  oral mucosal involvement  \\\n",
       "0                  0                   0                         0   \n",
       "1                  3                   0                         3   \n",
       "2                  0                   0                         0   \n",
       "3                  2                   0                         2   \n",
       "4                  0                   0                         0   \n",
       "\n",
       "   knee and elbow involvement  scalp involvement    ...      \\\n",
       "0                           1                  1    ...       \n",
       "1                           0                  0    ...       \n",
       "2                           3                  2    ...       \n",
       "3                           0                  0    ...       \n",
       "4                           0                  0    ...       \n",
       "\n",
       "   disappearance of the granular layer  \\\n",
       "0                                    0   \n",
       "1                                    0   \n",
       "2                                    3   \n",
       "3                                    2   \n",
       "4                                    0   \n",
       "\n",
       "   vacuolisation and damage of basal layer  spongiosis  \\\n",
       "0                                        0           0   \n",
       "1                                        2           3   \n",
       "2                                        0           0   \n",
       "3                                        3           2   \n",
       "4                                        0           2   \n",
       "\n",
       "   saw-tooth appearance of retes  follicular horn plug  \\\n",
       "0                              0                     0   \n",
       "1                              2                     0   \n",
       "2                              0                     0   \n",
       "3                              3                     0   \n",
       "4                              0                     0   \n",
       "\n",
       "   perifollicular parakeratosis  inflammatory monoluclear inflitrate  \\\n",
       "0                             0                                    1   \n",
       "1                             0                                    2   \n",
       "2                             0                                    3   \n",
       "3                             0                                    2   \n",
       "4                             0                                    1   \n",
       "\n",
       "   band-like infiltrate  Age (linear)  Classcode  \n",
       "0                     0             8          1  \n",
       "1                     3            26          3  \n",
       "2                     0            40          1  \n",
       "3                     3            45          3  \n",
       "4                     0            41          2  \n",
       "\n",
       "[5 rows x 35 columns]"
      ]
     },
     "execution_count": 73,
     "metadata": {},
     "output_type": "execute_result"
    }
   ],
   "source": [
    "df.head()"
   ]
  },
  {
   "cell_type": "code",
   "execution_count": 74,
   "metadata": {},
   "outputs": [
    {
     "data": {
      "text/plain": [
       "1    112\n",
       "3     72\n",
       "2     60\n",
       "5     52\n",
       "4     49\n",
       "6     20\n",
       "Name: Classcode, dtype: int64"
      ]
     },
     "execution_count": 74,
     "metadata": {},
     "output_type": "execute_result"
    }
   ],
   "source": [
    "df['Classcode'].value_counts(ascending=False)"
   ]
  },
  {
   "cell_type": "markdown",
   "metadata": {},
   "source": [
    "Below is the information to understand what class code means. \n",
    "9. Class Distribution:\n",
    "       Database:  Dermatology\n",
    "       \n",
    "       Class code:   Class:                  Number of instances:\n",
    "       1             psoriasis\t\t\t          112\n",
    "       2             seboreic dermatitis             61\n",
    "       3             lichen planus                   72\n",
    "       4             pityriasis rosea                49\n",
    "       5             cronic dermatitis               52    \n",
    "       6             pityriasis rubra pilaris        20"
   ]
  },
  {
   "cell_type": "markdown",
   "metadata": {},
   "source": [
    "### Data Cleaning"
   ]
  },
  {
   "cell_type": "markdown",
   "metadata": {},
   "source": [
    "Some part of the data has issues. Like the Age column. It has question marks against some values. Data cleaning is needed"
   ]
  },
  {
   "cell_type": "code",
   "execution_count": 75,
   "metadata": {},
   "outputs": [
    {
     "data": {
      "text/plain": [
       "array(['8', '26', '40', '45', '41', '18', '57', '22', '30', '20', '21',\n",
       "       '10', '65', '38', '23', '17', '51', '42', '44', '33', '43', '50',\n",
       "       '34', '?', '15', '46', '62', '35', '48', '12', '52', '60', '32',\n",
       "       '19', '29', '25', '36', '13', '27', '31', '55', '28', '64', '39',\n",
       "       '47', '16', '0', '7', '70', '37', '61', '67', '56', '53', '24',\n",
       "       '58', '49', '63', '68', '9', '75'], dtype=object)"
      ]
     },
     "execution_count": 75,
     "metadata": {},
     "output_type": "execute_result"
    }
   ],
   "source": [
    "df['Age (linear)'].unique()"
   ]
  },
  {
   "cell_type": "code",
   "execution_count": 76,
   "metadata": {
    "scrolled": true
   },
   "outputs": [
    {
     "data": {
      "text/html": [
       "<div>\n",
       "<style scoped>\n",
       "    .dataframe tbody tr th:only-of-type {\n",
       "        vertical-align: middle;\n",
       "    }\n",
       "\n",
       "    .dataframe tbody tr th {\n",
       "        vertical-align: top;\n",
       "    }\n",
       "\n",
       "    .dataframe thead th {\n",
       "        text-align: right;\n",
       "    }\n",
       "</style>\n",
       "<table border=\"1\" class=\"dataframe\">\n",
       "  <thead>\n",
       "    <tr style=\"text-align: right;\">\n",
       "      <th></th>\n",
       "      <th>erythema</th>\n",
       "      <th>scaling</th>\n",
       "      <th>definite borders</th>\n",
       "      <th>itching</th>\n",
       "      <th>koebner phenomenon</th>\n",
       "      <th>polygonal papules</th>\n",
       "      <th>follicular papules</th>\n",
       "      <th>oral mucosal involvement</th>\n",
       "      <th>knee and elbow involvement</th>\n",
       "      <th>scalp involvement</th>\n",
       "      <th>...</th>\n",
       "      <th>disappearance of the granular layer</th>\n",
       "      <th>vacuolisation and damage of basal layer</th>\n",
       "      <th>spongiosis</th>\n",
       "      <th>saw-tooth appearance of retes</th>\n",
       "      <th>follicular horn plug</th>\n",
       "      <th>perifollicular parakeratosis</th>\n",
       "      <th>inflammatory monoluclear inflitrate</th>\n",
       "      <th>band-like infiltrate</th>\n",
       "      <th>Age (linear)</th>\n",
       "      <th>Classcode</th>\n",
       "    </tr>\n",
       "  </thead>\n",
       "  <tbody>\n",
       "    <tr>\n",
       "      <th>32</th>\n",
       "      <td>2</td>\n",
       "      <td>2</td>\n",
       "      <td>1</td>\n",
       "      <td>0</td>\n",
       "      <td>0</td>\n",
       "      <td>0</td>\n",
       "      <td>0</td>\n",
       "      <td>0</td>\n",
       "      <td>1</td>\n",
       "      <td>0</td>\n",
       "      <td>...</td>\n",
       "      <td>0</td>\n",
       "      <td>0</td>\n",
       "      <td>0</td>\n",
       "      <td>0</td>\n",
       "      <td>0</td>\n",
       "      <td>0</td>\n",
       "      <td>0</td>\n",
       "      <td>0</td>\n",
       "      <td>?</td>\n",
       "      <td>1</td>\n",
       "    </tr>\n",
       "    <tr>\n",
       "      <th>33</th>\n",
       "      <td>2</td>\n",
       "      <td>1</td>\n",
       "      <td>0</td>\n",
       "      <td>0</td>\n",
       "      <td>2</td>\n",
       "      <td>0</td>\n",
       "      <td>0</td>\n",
       "      <td>0</td>\n",
       "      <td>0</td>\n",
       "      <td>0</td>\n",
       "      <td>...</td>\n",
       "      <td>0</td>\n",
       "      <td>0</td>\n",
       "      <td>0</td>\n",
       "      <td>0</td>\n",
       "      <td>0</td>\n",
       "      <td>0</td>\n",
       "      <td>0</td>\n",
       "      <td>0</td>\n",
       "      <td>?</td>\n",
       "      <td>4</td>\n",
       "    </tr>\n",
       "    <tr>\n",
       "      <th>34</th>\n",
       "      <td>2</td>\n",
       "      <td>2</td>\n",
       "      <td>1</td>\n",
       "      <td>2</td>\n",
       "      <td>0</td>\n",
       "      <td>0</td>\n",
       "      <td>0</td>\n",
       "      <td>0</td>\n",
       "      <td>0</td>\n",
       "      <td>0</td>\n",
       "      <td>...</td>\n",
       "      <td>0</td>\n",
       "      <td>0</td>\n",
       "      <td>0</td>\n",
       "      <td>0</td>\n",
       "      <td>0</td>\n",
       "      <td>0</td>\n",
       "      <td>0</td>\n",
       "      <td>0</td>\n",
       "      <td>?</td>\n",
       "      <td>2</td>\n",
       "    </tr>\n",
       "    <tr>\n",
       "      <th>35</th>\n",
       "      <td>2</td>\n",
       "      <td>1</td>\n",
       "      <td>2</td>\n",
       "      <td>3</td>\n",
       "      <td>2</td>\n",
       "      <td>3</td>\n",
       "      <td>0</td>\n",
       "      <td>2</td>\n",
       "      <td>0</td>\n",
       "      <td>0</td>\n",
       "      <td>...</td>\n",
       "      <td>0</td>\n",
       "      <td>2</td>\n",
       "      <td>0</td>\n",
       "      <td>2</td>\n",
       "      <td>0</td>\n",
       "      <td>0</td>\n",
       "      <td>0</td>\n",
       "      <td>3</td>\n",
       "      <td>?</td>\n",
       "      <td>3</td>\n",
       "    </tr>\n",
       "    <tr>\n",
       "      <th>261</th>\n",
       "      <td>2</td>\n",
       "      <td>1</td>\n",
       "      <td>0</td>\n",
       "      <td>2</td>\n",
       "      <td>0</td>\n",
       "      <td>0</td>\n",
       "      <td>0</td>\n",
       "      <td>0</td>\n",
       "      <td>0</td>\n",
       "      <td>0</td>\n",
       "      <td>...</td>\n",
       "      <td>0</td>\n",
       "      <td>0</td>\n",
       "      <td>2</td>\n",
       "      <td>0</td>\n",
       "      <td>0</td>\n",
       "      <td>0</td>\n",
       "      <td>3</td>\n",
       "      <td>0</td>\n",
       "      <td>?</td>\n",
       "      <td>5</td>\n",
       "    </tr>\n",
       "    <tr>\n",
       "      <th>262</th>\n",
       "      <td>1</td>\n",
       "      <td>1</td>\n",
       "      <td>1</td>\n",
       "      <td>3</td>\n",
       "      <td>0</td>\n",
       "      <td>0</td>\n",
       "      <td>0</td>\n",
       "      <td>0</td>\n",
       "      <td>0</td>\n",
       "      <td>0</td>\n",
       "      <td>...</td>\n",
       "      <td>0</td>\n",
       "      <td>0</td>\n",
       "      <td>3</td>\n",
       "      <td>0</td>\n",
       "      <td>0</td>\n",
       "      <td>0</td>\n",
       "      <td>2</td>\n",
       "      <td>0</td>\n",
       "      <td>?</td>\n",
       "      <td>5</td>\n",
       "    </tr>\n",
       "    <tr>\n",
       "      <th>263</th>\n",
       "      <td>1</td>\n",
       "      <td>1</td>\n",
       "      <td>0</td>\n",
       "      <td>2</td>\n",
       "      <td>0</td>\n",
       "      <td>0</td>\n",
       "      <td>0</td>\n",
       "      <td>0</td>\n",
       "      <td>1</td>\n",
       "      <td>0</td>\n",
       "      <td>...</td>\n",
       "      <td>0</td>\n",
       "      <td>0</td>\n",
       "      <td>2</td>\n",
       "      <td>0</td>\n",
       "      <td>0</td>\n",
       "      <td>0</td>\n",
       "      <td>3</td>\n",
       "      <td>0</td>\n",
       "      <td>?</td>\n",
       "      <td>5</td>\n",
       "    </tr>\n",
       "    <tr>\n",
       "      <th>264</th>\n",
       "      <td>1</td>\n",
       "      <td>1</td>\n",
       "      <td>0</td>\n",
       "      <td>3</td>\n",
       "      <td>0</td>\n",
       "      <td>0</td>\n",
       "      <td>0</td>\n",
       "      <td>0</td>\n",
       "      <td>0</td>\n",
       "      <td>0</td>\n",
       "      <td>...</td>\n",
       "      <td>0</td>\n",
       "      <td>0</td>\n",
       "      <td>2</td>\n",
       "      <td>0</td>\n",
       "      <td>0</td>\n",
       "      <td>0</td>\n",
       "      <td>3</td>\n",
       "      <td>0</td>\n",
       "      <td>?</td>\n",
       "      <td>5</td>\n",
       "    </tr>\n",
       "  </tbody>\n",
       "</table>\n",
       "<p>8 rows × 35 columns</p>\n",
       "</div>"
      ],
      "text/plain": [
       "     erythema  scaling  definite borders  itching  koebner phenomenon  \\\n",
       "32          2        2                 1        0                   0   \n",
       "33          2        1                 0        0                   2   \n",
       "34          2        2                 1        2                   0   \n",
       "35          2        1                 2        3                   2   \n",
       "261         2        1                 0        2                   0   \n",
       "262         1        1                 1        3                   0   \n",
       "263         1        1                 0        2                   0   \n",
       "264         1        1                 0        3                   0   \n",
       "\n",
       "     polygonal papules  follicular papules  oral mucosal involvement  \\\n",
       "32                   0                   0                         0   \n",
       "33                   0                   0                         0   \n",
       "34                   0                   0                         0   \n",
       "35                   3                   0                         2   \n",
       "261                  0                   0                         0   \n",
       "262                  0                   0                         0   \n",
       "263                  0                   0                         0   \n",
       "264                  0                   0                         0   \n",
       "\n",
       "     knee and elbow involvement  scalp involvement    ...      \\\n",
       "32                            1                  0    ...       \n",
       "33                            0                  0    ...       \n",
       "34                            0                  0    ...       \n",
       "35                            0                  0    ...       \n",
       "261                           0                  0    ...       \n",
       "262                           0                  0    ...       \n",
       "263                           1                  0    ...       \n",
       "264                           0                  0    ...       \n",
       "\n",
       "     disappearance of the granular layer  \\\n",
       "32                                     0   \n",
       "33                                     0   \n",
       "34                                     0   \n",
       "35                                     0   \n",
       "261                                    0   \n",
       "262                                    0   \n",
       "263                                    0   \n",
       "264                                    0   \n",
       "\n",
       "     vacuolisation and damage of basal layer  spongiosis  \\\n",
       "32                                         0           0   \n",
       "33                                         0           0   \n",
       "34                                         0           0   \n",
       "35                                         2           0   \n",
       "261                                        0           2   \n",
       "262                                        0           3   \n",
       "263                                        0           2   \n",
       "264                                        0           2   \n",
       "\n",
       "     saw-tooth appearance of retes  follicular horn plug  \\\n",
       "32                               0                     0   \n",
       "33                               0                     0   \n",
       "34                               0                     0   \n",
       "35                               2                     0   \n",
       "261                              0                     0   \n",
       "262                              0                     0   \n",
       "263                              0                     0   \n",
       "264                              0                     0   \n",
       "\n",
       "     perifollicular parakeratosis  inflammatory monoluclear inflitrate  \\\n",
       "32                              0                                    0   \n",
       "33                              0                                    0   \n",
       "34                              0                                    0   \n",
       "35                              0                                    0   \n",
       "261                             0                                    3   \n",
       "262                             0                                    2   \n",
       "263                             0                                    3   \n",
       "264                             0                                    3   \n",
       "\n",
       "     band-like infiltrate  Age (linear)  Classcode  \n",
       "32                      0             ?          1  \n",
       "33                      0             ?          4  \n",
       "34                      0             ?          2  \n",
       "35                      3             ?          3  \n",
       "261                     0             ?          5  \n",
       "262                     0             ?          5  \n",
       "263                     0             ?          5  \n",
       "264                     0             ?          5  \n",
       "\n",
       "[8 rows x 35 columns]"
      ]
     },
     "execution_count": 76,
     "metadata": {},
     "output_type": "execute_result"
    }
   ],
   "source": [
    "df[df['Age (linear)'] == '?']"
   ]
  },
  {
   "cell_type": "code",
   "execution_count": 77,
   "metadata": {
    "scrolled": true
   },
   "outputs": [],
   "source": [
    "df = df.replace('?', np.nan)"
   ]
  },
  {
   "cell_type": "code",
   "execution_count": 78,
   "metadata": {},
   "outputs": [
    {
     "data": {
      "text/html": [
       "<div>\n",
       "<style scoped>\n",
       "    .dataframe tbody tr th:only-of-type {\n",
       "        vertical-align: middle;\n",
       "    }\n",
       "\n",
       "    .dataframe tbody tr th {\n",
       "        vertical-align: top;\n",
       "    }\n",
       "\n",
       "    .dataframe thead th {\n",
       "        text-align: right;\n",
       "    }\n",
       "</style>\n",
       "<table border=\"1\" class=\"dataframe\">\n",
       "  <thead>\n",
       "    <tr style=\"text-align: right;\">\n",
       "      <th></th>\n",
       "      <th>erythema</th>\n",
       "      <th>scaling</th>\n",
       "      <th>definite borders</th>\n",
       "      <th>itching</th>\n",
       "      <th>koebner phenomenon</th>\n",
       "      <th>polygonal papules</th>\n",
       "      <th>follicular papules</th>\n",
       "      <th>oral mucosal involvement</th>\n",
       "      <th>knee and elbow involvement</th>\n",
       "      <th>scalp involvement</th>\n",
       "      <th>...</th>\n",
       "      <th>disappearance of the granular layer</th>\n",
       "      <th>vacuolisation and damage of basal layer</th>\n",
       "      <th>spongiosis</th>\n",
       "      <th>saw-tooth appearance of retes</th>\n",
       "      <th>follicular horn plug</th>\n",
       "      <th>perifollicular parakeratosis</th>\n",
       "      <th>inflammatory monoluclear inflitrate</th>\n",
       "      <th>band-like infiltrate</th>\n",
       "      <th>Age (linear)</th>\n",
       "      <th>Classcode</th>\n",
       "    </tr>\n",
       "  </thead>\n",
       "  <tbody>\n",
       "  </tbody>\n",
       "</table>\n",
       "<p>0 rows × 35 columns</p>\n",
       "</div>"
      ],
      "text/plain": [
       "Empty DataFrame\n",
       "Columns: [erythema, scaling, definite borders, itching, koebner phenomenon, polygonal papules, follicular papules, oral mucosal involvement, knee and elbow involvement, scalp involvement, family history(0 or 1), melanin incontinence, eosinophils in the infiltrate, PNL infiltrate, fibrosis of the papillary dermis, exocytosis, acanthosis, hyperkeratosis, parakeratosis, dlubbing of the rete ridges, elongation of the rete ridges, thinning of the suprapapillary epidermis, spongiform pustule, munro microabcess, focal hypergranulosis, disappearance of the granular layer, vacuolisation and damage of basal layer, spongiosis, saw-tooth appearance of retes, follicular horn plug, perifollicular parakeratosis, inflammatory monoluclear inflitrate, band-like infiltrate, Age (linear), Classcode]\n",
       "Index: []\n",
       "\n",
       "[0 rows x 35 columns]"
      ]
     },
     "execution_count": 78,
     "metadata": {},
     "output_type": "execute_result"
    }
   ],
   "source": [
    "df[df.values == '?']"
   ]
  },
  {
   "cell_type": "code",
   "execution_count": 105,
   "metadata": {},
   "outputs": [],
   "source": [
    "for i in df.columns:\n",
    "    df[i].apply(int)"
   ]
  },
  {
   "cell_type": "code",
   "execution_count": 110,
   "metadata": {},
   "outputs": [
    {
     "data": {
      "text/plain": [
       "erythema                                    int64\n",
       "scaling                                     int64\n",
       "definite borders                            int64\n",
       "itching                                     int64\n",
       "koebner phenomenon                          int64\n",
       "polygonal papules                           int64\n",
       "follicular papules                          int64\n",
       "oral mucosal involvement                    int64\n",
       "knee and elbow involvement                  int64\n",
       "scalp involvement                           int64\n",
       "family history(0 or 1)                      int64\n",
       "melanin incontinence                        int64\n",
       "eosinophils in the infiltrate               int64\n",
       "PNL infiltrate                              int64\n",
       "fibrosis of the papillary dermis            int64\n",
       "exocytosis                                  int64\n",
       "acanthosis                                  int64\n",
       "hyperkeratosis                              int64\n",
       "parakeratosis                               int64\n",
       "dlubbing of the rete ridges                 int64\n",
       "elongation of the rete ridges               int64\n",
       "thinning of the suprapapillary epidermis    int64\n",
       "spongiform pustule                          int64\n",
       "munro microabcess                           int64\n",
       "focal hypergranulosis                       int64\n",
       "disappearance of the granular layer         int64\n",
       "vacuolisation and damage of basal layer     int64\n",
       "spongiosis                                  int64\n",
       "saw-tooth appearance of retes               int64\n",
       "follicular horn plug                        int64\n",
       "perifollicular parakeratosis                int64\n",
       "inflammatory monoluclear inflitrate         int64\n",
       "band-like infiltrate                        int64\n",
       "Age (linear)                                int64\n",
       "Classcode                                   int64\n",
       "dtype: object"
      ]
     },
     "execution_count": 110,
     "metadata": {},
     "output_type": "execute_result"
    }
   ],
   "source": [
    "df.dtypes"
   ]
  },
  {
   "cell_type": "code",
   "execution_count": 106,
   "metadata": {
    "scrolled": true
   },
   "outputs": [],
   "source": [
    "df.fillna(df.mean(),inplace=True)"
   ]
  },
  {
   "cell_type": "code",
   "execution_count": 107,
   "metadata": {},
   "outputs": [
    {
     "data": {
      "text/plain": [
       "<matplotlib.axes._subplots.AxesSubplot at 0x2259947b470>"
      ]
     },
     "execution_count": 107,
     "metadata": {},
     "output_type": "execute_result"
    },
    {
     "data": {
      "image/png": "[encoded data removed]",
      "text/plain": [
       "<Figure size 1296x432 with 1 Axes>"
      ]
     },
     "metadata": {},
     "output_type": "display_data"
    }
   ],
   "source": [
    "plt.figure(figsize=(18,6))\n",
    "sns.heatmap(df.isnull(), yticklabels=False, cbar=False, cmap='viridis')"
   ]
  },
  {
   "cell_type": "code",
   "execution_count": 108,
   "metadata": {
    "scrolled": true
   },
   "outputs": [
    {
     "data": {
      "text/html": [
       "<div>\n",
       "<style scoped>\n",
       "    .dataframe tbody tr th:only-of-type {\n",
       "        vertical-align: middle;\n",
       "    }\n",
       "\n",
       "    .dataframe tbody tr th {\n",
       "        vertical-align: top;\n",
       "    }\n",
       "\n",
       "    .dataframe thead th {\n",
       "        text-align: right;\n",
       "    }\n",
       "</style>\n",
       "<table border=\"1\" class=\"dataframe\">\n",
       "  <thead>\n",
       "    <tr style=\"text-align: right;\">\n",
       "      <th></th>\n",
       "      <th>erythema</th>\n",
       "      <th>scaling</th>\n",
       "      <th>definite borders</th>\n",
       "      <th>itching</th>\n",
       "      <th>koebner phenomenon</th>\n",
       "      <th>polygonal papules</th>\n",
       "      <th>follicular papules</th>\n",
       "      <th>oral mucosal involvement</th>\n",
       "      <th>knee and elbow involvement</th>\n",
       "      <th>scalp involvement</th>\n",
       "      <th>...</th>\n",
       "      <th>disappearance of the granular layer</th>\n",
       "      <th>vacuolisation and damage of basal layer</th>\n",
       "      <th>spongiosis</th>\n",
       "      <th>saw-tooth appearance of retes</th>\n",
       "      <th>follicular horn plug</th>\n",
       "      <th>perifollicular parakeratosis</th>\n",
       "      <th>inflammatory monoluclear inflitrate</th>\n",
       "      <th>band-like infiltrate</th>\n",
       "      <th>Age (linear)</th>\n",
       "      <th>Classcode</th>\n",
       "    </tr>\n",
       "  </thead>\n",
       "  <tbody>\n",
       "  </tbody>\n",
       "</table>\n",
       "<p>0 rows × 35 columns</p>\n",
       "</div>"
      ],
      "text/plain": [
       "Empty DataFrame\n",
       "Columns: [erythema, scaling, definite borders, itching, koebner phenomenon, polygonal papules, follicular papules, oral mucosal involvement, knee and elbow involvement, scalp involvement, family history(0 or 1), melanin incontinence, eosinophils in the infiltrate, PNL infiltrate, fibrosis of the papillary dermis, exocytosis, acanthosis, hyperkeratosis, parakeratosis, dlubbing of the rete ridges, elongation of the rete ridges, thinning of the suprapapillary epidermis, spongiform pustule, munro microabcess, focal hypergranulosis, disappearance of the granular layer, vacuolisation and damage of basal layer, spongiosis, saw-tooth appearance of retes, follicular horn plug, perifollicular parakeratosis, inflammatory monoluclear inflitrate, band-like infiltrate, Age (linear), Classcode]\n",
       "Index: []\n",
       "\n",
       "[0 rows x 35 columns]"
      ]
     },
     "execution_count": 108,
     "metadata": {},
     "output_type": "execute_result"
    }
   ],
   "source": [
    "df[df['Age (linear)'].isnull()]"
   ]
  },
  {
   "cell_type": "code",
   "execution_count": 111,
   "metadata": {},
   "outputs": [
    {
     "data": {
      "text/html": [
       "<div>\n",
       "<style scoped>\n",
       "    .dataframe tbody tr th:only-of-type {\n",
       "        vertical-align: middle;\n",
       "    }\n",
       "\n",
       "    .dataframe tbody tr th {\n",
       "        vertical-align: top;\n",
       "    }\n",
       "\n",
       "    .dataframe thead th {\n",
       "        text-align: right;\n",
       "    }\n",
       "</style>\n",
       "<table border=\"1\" class=\"dataframe\">\n",
       "  <thead>\n",
       "    <tr style=\"text-align: right;\">\n",
       "      <th></th>\n",
       "      <th>erythema</th>\n",
       "      <th>scaling</th>\n",
       "      <th>definite borders</th>\n",
       "      <th>itching</th>\n",
       "      <th>koebner phenomenon</th>\n",
       "      <th>polygonal papules</th>\n",
       "      <th>follicular papules</th>\n",
       "      <th>oral mucosal involvement</th>\n",
       "      <th>knee and elbow involvement</th>\n",
       "      <th>scalp involvement</th>\n",
       "      <th>...</th>\n",
       "      <th>disappearance of the granular layer</th>\n",
       "      <th>vacuolisation and damage of basal layer</th>\n",
       "      <th>spongiosis</th>\n",
       "      <th>saw-tooth appearance of retes</th>\n",
       "      <th>follicular horn plug</th>\n",
       "      <th>perifollicular parakeratosis</th>\n",
       "      <th>inflammatory monoluclear inflitrate</th>\n",
       "      <th>band-like infiltrate</th>\n",
       "      <th>Age (linear)</th>\n",
       "      <th>Classcode</th>\n",
       "    </tr>\n",
       "  </thead>\n",
       "  <tbody>\n",
       "    <tr>\n",
       "      <th>count</th>\n",
       "      <td>357.000000</td>\n",
       "      <td>357.000000</td>\n",
       "      <td>357.000000</td>\n",
       "      <td>357.000000</td>\n",
       "      <td>357.000000</td>\n",
       "      <td>357.000000</td>\n",
       "      <td>357.000000</td>\n",
       "      <td>357.000000</td>\n",
       "      <td>357.000000</td>\n",
       "      <td>357.000000</td>\n",
       "      <td>...</td>\n",
       "      <td>357.000000</td>\n",
       "      <td>357.000000</td>\n",
       "      <td>357.000000</td>\n",
       "      <td>357.000000</td>\n",
       "      <td>357.000000</td>\n",
       "      <td>357.000000</td>\n",
       "      <td>357.000000</td>\n",
       "      <td>357.000000</td>\n",
       "      <td>357.000000</td>\n",
       "      <td>357.000000</td>\n",
       "    </tr>\n",
       "    <tr>\n",
       "      <th>mean</th>\n",
       "      <td>2.078431</td>\n",
       "      <td>1.806723</td>\n",
       "      <td>1.574230</td>\n",
       "      <td>1.350140</td>\n",
       "      <td>0.638655</td>\n",
       "      <td>0.450980</td>\n",
       "      <td>0.170868</td>\n",
       "      <td>0.380952</td>\n",
       "      <td>0.621849</td>\n",
       "      <td>0.532213</td>\n",
       "      <td>...</td>\n",
       "      <td>0.476190</td>\n",
       "      <td>0.462185</td>\n",
       "      <td>0.943978</td>\n",
       "      <td>0.459384</td>\n",
       "      <td>0.106443</td>\n",
       "      <td>0.117647</td>\n",
       "      <td>1.879552</td>\n",
       "      <td>0.560224</td>\n",
       "      <td>36.243697</td>\n",
       "      <td>2.784314</td>\n",
       "    </tr>\n",
       "    <tr>\n",
       "      <th>std</th>\n",
       "      <td>0.665785</td>\n",
       "      <td>0.702451</td>\n",
       "      <td>0.898318</td>\n",
       "      <td>1.133296</td>\n",
       "      <td>0.909356</td>\n",
       "      <td>0.957513</td>\n",
       "      <td>0.577132</td>\n",
       "      <td>0.838321</td>\n",
       "      <td>0.991466</td>\n",
       "      <td>0.913198</td>\n",
       "      <td>...</td>\n",
       "      <td>0.872565</td>\n",
       "      <td>0.960950</td>\n",
       "      <td>1.125396</td>\n",
       "      <td>0.960836</td>\n",
       "      <td>0.455784</td>\n",
       "      <td>0.494517</td>\n",
       "      <td>0.698756</td>\n",
       "      <td>1.109149</td>\n",
       "      <td>15.313925</td>\n",
       "      <td>1.595633</td>\n",
       "    </tr>\n",
       "    <tr>\n",
       "      <th>min</th>\n",
       "      <td>0.000000</td>\n",
       "      <td>0.000000</td>\n",
       "      <td>0.000000</td>\n",
       "      <td>0.000000</td>\n",
       "      <td>0.000000</td>\n",
       "      <td>0.000000</td>\n",
       "      <td>0.000000</td>\n",
       "      <td>0.000000</td>\n",
       "      <td>0.000000</td>\n",
       "      <td>0.000000</td>\n",
       "      <td>...</td>\n",
       "      <td>0.000000</td>\n",
       "      <td>0.000000</td>\n",
       "      <td>0.000000</td>\n",
       "      <td>0.000000</td>\n",
       "      <td>0.000000</td>\n",
       "      <td>0.000000</td>\n",
       "      <td>0.000000</td>\n",
       "      <td>0.000000</td>\n",
       "      <td>0.000000</td>\n",
       "      <td>1.000000</td>\n",
       "    </tr>\n",
       "    <tr>\n",
       "      <th>25%</th>\n",
       "      <td>2.000000</td>\n",
       "      <td>1.000000</td>\n",
       "      <td>1.000000</td>\n",
       "      <td>0.000000</td>\n",
       "      <td>0.000000</td>\n",
       "      <td>0.000000</td>\n",
       "      <td>0.000000</td>\n",
       "      <td>0.000000</td>\n",
       "      <td>0.000000</td>\n",
       "      <td>0.000000</td>\n",
       "      <td>...</td>\n",
       "      <td>0.000000</td>\n",
       "      <td>0.000000</td>\n",
       "      <td>0.000000</td>\n",
       "      <td>0.000000</td>\n",
       "      <td>0.000000</td>\n",
       "      <td>0.000000</td>\n",
       "      <td>1.000000</td>\n",
       "      <td>0.000000</td>\n",
       "      <td>25.000000</td>\n",
       "      <td>1.000000</td>\n",
       "    </tr>\n",
       "    <tr>\n",
       "      <th>50%</th>\n",
       "      <td>2.000000</td>\n",
       "      <td>2.000000</td>\n",
       "      <td>2.000000</td>\n",
       "      <td>1.000000</td>\n",
       "      <td>0.000000</td>\n",
       "      <td>0.000000</td>\n",
       "      <td>0.000000</td>\n",
       "      <td>0.000000</td>\n",
       "      <td>0.000000</td>\n",
       "      <td>0.000000</td>\n",
       "      <td>...</td>\n",
       "      <td>0.000000</td>\n",
       "      <td>0.000000</td>\n",
       "      <td>0.000000</td>\n",
       "      <td>0.000000</td>\n",
       "      <td>0.000000</td>\n",
       "      <td>0.000000</td>\n",
       "      <td>2.000000</td>\n",
       "      <td>0.000000</td>\n",
       "      <td>35.000000</td>\n",
       "      <td>3.000000</td>\n",
       "    </tr>\n",
       "    <tr>\n",
       "      <th>75%</th>\n",
       "      <td>3.000000</td>\n",
       "      <td>2.000000</td>\n",
       "      <td>2.000000</td>\n",
       "      <td>2.000000</td>\n",
       "      <td>1.000000</td>\n",
       "      <td>0.000000</td>\n",
       "      <td>0.000000</td>\n",
       "      <td>0.000000</td>\n",
       "      <td>1.000000</td>\n",
       "      <td>1.000000</td>\n",
       "      <td>...</td>\n",
       "      <td>1.000000</td>\n",
       "      <td>0.000000</td>\n",
       "      <td>2.000000</td>\n",
       "      <td>0.000000</td>\n",
       "      <td>0.000000</td>\n",
       "      <td>0.000000</td>\n",
       "      <td>2.000000</td>\n",
       "      <td>0.000000</td>\n",
       "      <td>49.000000</td>\n",
       "      <td>4.000000</td>\n",
       "    </tr>\n",
       "    <tr>\n",
       "      <th>max</th>\n",
       "      <td>3.000000</td>\n",
       "      <td>3.000000</td>\n",
       "      <td>3.000000</td>\n",
       "      <td>3.000000</td>\n",
       "      <td>3.000000</td>\n",
       "      <td>3.000000</td>\n",
       "      <td>3.000000</td>\n",
       "      <td>3.000000</td>\n",
       "      <td>3.000000</td>\n",
       "      <td>3.000000</td>\n",
       "      <td>...</td>\n",
       "      <td>3.000000</td>\n",
       "      <td>3.000000</td>\n",
       "      <td>3.000000</td>\n",
       "      <td>3.000000</td>\n",
       "      <td>3.000000</td>\n",
       "      <td>3.000000</td>\n",
       "      <td>3.000000</td>\n",
       "      <td>3.000000</td>\n",
       "      <td>75.000000</td>\n",
       "      <td>6.000000</td>\n",
       "    </tr>\n",
       "  </tbody>\n",
       "</table>\n",
       "<p>8 rows × 35 columns</p>\n",
       "</div>"
      ],
      "text/plain": [
       "         erythema     scaling  definite borders     itching  \\\n",
       "count  357.000000  357.000000        357.000000  357.000000   \n",
       "mean     2.078431    1.806723          1.574230    1.350140   \n",
       "std      0.665785    0.702451          0.898318    1.133296   \n",
       "min      0.000000    0.000000          0.000000    0.000000   \n",
       "25%      2.000000    1.000000          1.000000    0.000000   \n",
       "50%      2.000000    2.000000          2.000000    1.000000   \n",
       "75%      3.000000    2.000000          2.000000    2.000000   \n",
       "max      3.000000    3.000000          3.000000    3.000000   \n",
       "\n",
       "       koebner phenomenon  polygonal papules  follicular papules  \\\n",
       "count          357.000000         357.000000          357.000000   \n",
       "mean             0.638655           0.450980            0.170868   \n",
       "std              0.909356           0.957513            0.577132   \n",
       "min              0.000000           0.000000            0.000000   \n",
       "25%              0.000000           0.000000            0.000000   \n",
       "50%              0.000000           0.000000            0.000000   \n",
       "75%              1.000000           0.000000            0.000000   \n",
       "max              3.000000           3.000000            3.000000   \n",
       "\n",
       "       oral mucosal involvement  knee and elbow involvement  \\\n",
       "count                357.000000                  357.000000   \n",
       "mean                   0.380952                    0.621849   \n",
       "std                    0.838321                    0.991466   \n",
       "min                    0.000000                    0.000000   \n",
       "25%                    0.000000                    0.000000   \n",
       "50%                    0.000000                    0.000000   \n",
       "75%                    0.000000                    1.000000   \n",
       "max                    3.000000                    3.000000   \n",
       "\n",
       "       scalp involvement     ...      disappearance of the granular layer  \\\n",
       "count         357.000000     ...                               357.000000   \n",
       "mean            0.532213     ...                                 0.476190   \n",
       "std             0.913198     ...                                 0.872565   \n",
       "min             0.000000     ...                                 0.000000   \n",
       "25%             0.000000     ...                                 0.000000   \n",
       "50%             0.000000     ...                                 0.000000   \n",
       "75%             1.000000     ...                                 1.000000   \n",
       "max             3.000000     ...                                 3.000000   \n",
       "\n",
       "       vacuolisation and damage of basal layer  spongiosis  \\\n",
       "count                               357.000000  357.000000   \n",
       "mean                                  0.462185    0.943978   \n",
       "std                                   0.960950    1.125396   \n",
       "min                                   0.000000    0.000000   \n",
       "25%                                   0.000000    0.000000   \n",
       "50%                                   0.000000    0.000000   \n",
       "75%                                   0.000000    2.000000   \n",
       "max                                   3.000000    3.000000   \n",
       "\n",
       "       saw-tooth appearance of retes  follicular horn plug  \\\n",
       "count                     357.000000            357.000000   \n",
       "mean                        0.459384              0.106443   \n",
       "std                         0.960836              0.455784   \n",
       "min                         0.000000              0.000000   \n",
       "25%                         0.000000              0.000000   \n",
       "50%                         0.000000              0.000000   \n",
       "75%                         0.000000              0.000000   \n",
       "max                         3.000000              3.000000   \n",
       "\n",
       "       perifollicular parakeratosis  inflammatory monoluclear inflitrate  \\\n",
       "count                    357.000000                           357.000000   \n",
       "mean                       0.117647                             1.879552   \n",
       "std                        0.494517                             0.698756   \n",
       "min                        0.000000                             0.000000   \n",
       "25%                        0.000000                             1.000000   \n",
       "50%                        0.000000                             2.000000   \n",
       "75%                        0.000000                             2.000000   \n",
       "max                        3.000000                             3.000000   \n",
       "\n",
       "       band-like infiltrate  Age (linear)   Classcode  \n",
       "count            357.000000    357.000000  357.000000  \n",
       "mean               0.560224     36.243697    2.784314  \n",
       "std                1.109149     15.313925    1.595633  \n",
       "min                0.000000      0.000000    1.000000  \n",
       "25%                0.000000     25.000000    1.000000  \n",
       "50%                0.000000     35.000000    3.000000  \n",
       "75%                0.000000     49.000000    4.000000  \n",
       "max                3.000000     75.000000    6.000000  \n",
       "\n",
       "[8 rows x 35 columns]"
      ]
     },
     "execution_count": 111,
     "metadata": {},
     "output_type": "execute_result"
    }
   ],
   "source": [
    "df.describe()"
   ]
  },
  {
   "cell_type": "code",
   "execution_count": 113,
   "metadata": {},
   "outputs": [],
   "source": [
    "corr = df.corr()"
   ]
  },
  {
   "cell_type": "code",
   "execution_count": 116,
   "metadata": {},
   "outputs": [
    {
     "data": {
      "text/plain": [
       "<matplotlib.axes._subplots.AxesSubplot at 0x22599ccddd8>"
      ]
     },
     "execution_count": 116,
     "metadata": {},
     "output_type": "execute_result"
    },
    {
     "data": {
      "image/png": "[encoded data removed]",
      "text/plain": [
       "<Figure size 864x864 with 2 Axes>"
      ]
     },
     "metadata": {},
     "output_type": "display_data"
    }
   ],
   "source": [
    "plt.figure(figsize=(12,12))\n",
    "sns.heatmap(corr, linewidths=.5, cmap='viridis')"
   ]
  },
  {
   "cell_type": "markdown",
   "metadata": {},
   "source": [
    "As we've noticed it is difficult to visualize high dimensional data, we can use PCA to find the first two principal components, and visualize the data in this new, two-dimensional space, with a single scatter-plot. Before we do this though, we'll need to scale our data so that each feature has a single unit variance."
   ]
  },
  {
   "cell_type": "markdown",
   "metadata": {},
   "source": [
    "### Principal Component Analysis of the dataset"
   ]
  },
  {
   "cell_type": "code",
   "execution_count": 126,
   "metadata": {},
   "outputs": [],
   "source": [
    "from sklearn.preprocessing import StandardScaler"
   ]
  },
  {
   "cell_type": "code",
   "execution_count": 127,
   "metadata": {},
   "outputs": [],
   "source": [
    "scaler = StandardScaler()"
   ]
  },
  {
   "cell_type": "code",
   "execution_count": 122,
   "metadata": {},
   "outputs": [],
   "source": [
    "#The Class code column is the value that needs to be predicted from the analysis. \n",
    "#Hence we will have to split X and y(Features and labels) based on this information\n",
    "X = df.iloc[:,0:34]  # all rows, all the features and no labels\n",
    "y = df.iloc[:,-1]  # all rows, label only"
   ]
  },
  {
   "cell_type": "code",
   "execution_count": 128,
   "metadata": {},
   "outputs": [],
   "source": [
    "scaled_data = scaler.fit_transform(X)"
   ]
  },
  {
   "cell_type": "code",
   "execution_count": 131,
   "metadata": {},
   "outputs": [
    {
     "data": {
      "text/plain": [
       "array([[ 1.38612659,  1.70111735,  1.58938378, ..., -1.26050554,\n",
       "        -0.50580259, -1.84690329],\n",
       "       [-0.11796822, -1.15005116,  0.47462934, ...,  0.172617  ,\n",
       "         2.2027703 , -0.66985276],\n",
       "       [-0.11796822,  0.27553309,  0.47462934, ...,  1.60573954,\n",
       "        -0.50580259,  0.24563099],\n",
       "       ...,\n",
       "       [ 1.38612659,  0.27553309,  0.47462934, ...,  0.172617  ,\n",
       "         2.2027703 , -0.53906936],\n",
       "       [-0.11796822, -1.15005116,  1.58938378, ...,  0.172617  ,\n",
       "         2.2027703 ,  0.89954796],\n",
       "       [ 1.38612659,  0.27553309,  0.47462934, ...,  1.60573954,\n",
       "        -0.50580259, -0.08132749]])"
      ]
     },
     "execution_count": 131,
     "metadata": {},
     "output_type": "execute_result"
    }
   ],
   "source": [
    "scaled_data"
   ]
  },
  {
   "cell_type": "code",
   "execution_count": 130,
   "metadata": {},
   "outputs": [],
   "source": [
    "from sklearn.decomposition import PCA"
   ]
  },
  {
   "cell_type": "code",
   "execution_count": 132,
   "metadata": {},
   "outputs": [],
   "source": [
    "pca = PCA()"
   ]
  },
  {
   "cell_type": "code",
   "execution_count": 133,
   "metadata": {},
   "outputs": [
    {
     "data": {
      "text/plain": [
       "array([[-2.81795025e+01, -2.62441057e+00,  2.31790080e+00, ...,\n",
       "        -1.86862886e-01,  3.55546304e-02, -2.88138380e-02],\n",
       "       [-1.01705008e+01,  4.88178487e+00,  2.57669217e+00, ...,\n",
       "         1.87613218e-03,  4.39528182e-01,  3.05019223e-02],\n",
       "       [ 3.81090654e+00, -4.41646806e+00,  2.07206675e+00, ...,\n",
       "         1.77396784e-02,  3.92556844e-02,  5.32483254e-02],\n",
       "       ...,\n",
       "       [-8.13554809e+00,  5.61230394e+00,  3.45202362e+00, ...,\n",
       "        -2.07181654e-01,  3.47339923e-01, -5.43110491e-02],\n",
       "       [ 1.38273781e+01,  4.86361793e+00,  2.17487752e+00, ...,\n",
       "         1.64691189e-01,  1.90981468e-01, -3.15156335e-02],\n",
       "       [-1.17999551e+00, -4.74224925e+00,  2.71185028e+00, ...,\n",
       "        -5.50656297e-02,  2.37604074e-02,  7.61390714e-02]])"
      ]
     },
     "execution_count": 133,
     "metadata": {},
     "output_type": "execute_result"
    }
   ],
   "source": [
    "pca.fit_transform(X)"
   ]
  },
  {
   "cell_type": "code",
   "execution_count": 134,
   "metadata": {},
   "outputs": [
    {
     "data": {
      "text/plain": [
       "array([[ 4.43269443e-01,  2.00594845e-01,  1.48656092e-01, ...,\n",
       "         4.31813175e-02, -1.03547037e-02, -4.72571051e-02],\n",
       "       [ 2.00594845e-01,  4.93437825e-01,  2.20847890e-01, ...,\n",
       "        -3.68237183e-03, -1.04900387e-01,  1.62402039e-01],\n",
       "       [ 1.48656092e-01,  2.20847890e-01,  8.06974475e-01, ...,\n",
       "         7.49771819e-02,  2.72904667e-01,  2.00011802e+00],\n",
       "       ...,\n",
       "       [ 4.31813175e-02, -3.68237183e-03,  7.49771819e-02, ...,\n",
       "         4.88260473e-01,  2.02498977e-01,  9.25502785e-01],\n",
       "       [-1.03547037e-02, -1.04900387e-01,  2.72904667e-01, ...,\n",
       "         2.02498977e-01,  1.23021119e+00,  1.80972052e+00],\n",
       "       [-4.72571051e-02,  1.62402039e-01,  2.00011802e+00, ...,\n",
       "         9.25502785e-01,  1.80972052e+00,  2.34516287e+02]])"
      ]
     },
     "execution_count": 134,
     "metadata": {},
     "output_type": "execute_result"
    }
   ],
   "source": [
    "pca.get_covariance()"
   ]
  },
  {
   "cell_type": "code",
   "execution_count": 135,
   "metadata": {},
   "outputs": [
    {
     "data": {
      "text/plain": [
       "array([9.06495660e-01, 3.33716150e-02, 1.71354455e-02, 7.04525489e-03,\n",
       "       4.37416527e-03, 3.37717324e-03, 3.09843865e-03, 2.52464509e-03,\n",
       "       2.29360377e-03, 2.05761628e-03, 1.94884469e-03, 1.84131072e-03,\n",
       "       1.61292997e-03, 1.46914258e-03, 1.37318955e-03, 1.12356370e-03,\n",
       "       1.00038553e-03, 9.69241050e-04, 9.20187466e-04, 8.64312792e-04,\n",
       "       7.74358737e-04, 6.55658402e-04, 5.65720677e-04, 4.24968171e-04,\n",
       "       4.17179922e-04, 3.80940340e-04, 3.67001426e-04, 3.10228606e-04,\n",
       "       2.83126439e-04, 2.65384326e-04, 2.55095615e-04, 2.02780673e-04,\n",
       "       1.49665281e-04, 5.11656517e-05])"
      ]
     },
     "execution_count": 135,
     "metadata": {},
     "output_type": "execute_result"
    }
   ],
   "source": [
    "explained_variance=pca.explained_variance_ratio_\n",
    "explained_variance"
   ]
  },
  {
   "cell_type": "code",
   "execution_count": 138,
   "metadata": {},
   "outputs": [
    {
     "data": {
      "image/png": "[encoded data removed]",
      "text/plain": [
       "<Figure size 576x432 with 1 Axes>"
      ]
     },
     "metadata": {},
     "output_type": "display_data"
    }
   ],
   "source": [
    "with plt.style.context('dark_background'):\n",
    "    plt.figure(figsize=(8, 6))\n",
    "\n",
    "    plt.bar(range(34), explained_variance, alpha=0.5, align='center',\n",
    "            label='Explained Variance representation')\n",
    "    plt.ylabel('Explained variance ratio')\n",
    "    plt.xlabel('Principal components')\n",
    "    plt.legend(loc='best')\n",
    "    plt.tight_layout()"
   ]
  },
  {
   "cell_type": "markdown",
   "metadata": {},
   "source": [
    "The above graph is a clear indication that first column 'erythema' has the largest explained variance ratio in the given dataset. The second column 'scaling' is the next highest but at a very distant importance level."
   ]
  },
  {
   "cell_type": "markdown",
   "metadata": {},
   "source": [
    "### Model Selection and Prediction "
   ]
  },
  {
   "cell_type": "markdown",
   "metadata": {},
   "source": [
    "#### 1) I try using RandomForestRegressor"
   ]
  },
  {
   "cell_type": "code",
   "execution_count": 139,
   "metadata": {},
   "outputs": [
    {
     "data": {
      "text/plain": [
       "(249, 34)"
      ]
     },
     "execution_count": 139,
     "metadata": {},
     "output_type": "execute_result"
    }
   ],
   "source": [
    "from sklearn.model_selection import train_test_split\n",
    "X_train, X_test, y_train, y_test = train_test_split(X, y, test_size=0.3, random_state=42)\n",
    "X_train.shape"
   ]
  },
  {
   "cell_type": "code",
   "execution_count": 223,
   "metadata": {},
   "outputs": [
    {
     "name": "stdout",
     "output_type": "stream",
     "text": [
      "(249, 34)\n",
      "(108, 34)\n",
      "(249,)\n",
      "(108,)\n"
     ]
    }
   ],
   "source": [
    "print(X_train.shape)\n",
    "print(X_test.shape)\n",
    "print(y_train.shape)\n",
    "print(y_test.shape)"
   ]
  },
  {
   "cell_type": "code",
   "execution_count": 170,
   "metadata": {},
   "outputs": [],
   "source": [
    "from sklearn.ensemble import RandomForestRegressor\n",
    "from sklearn.ensemble import VotingClassifier\n",
    "from sklearn.ensemble import RandomForestClassifier, AdaBoostClassifier"
   ]
  },
  {
   "cell_type": "code",
   "execution_count": 197,
   "metadata": {},
   "outputs": [
    {
     "name": "stdout",
     "output_type": "stream",
     "text": [
      "[0.866570522065186, 0.8929968272281511, 0.8902759350062494, 0.8927372368041534, 0.894240784539948, 0.8995692721853668, 0.9001887181177635, 0.8975255985001442, 0.9058052110374003, 0.8895117392558408, 0.899391619210168, 0.9196149408710701, 0.9032509049823955, 0.9073110317100592, 0.8992902990097106, 0.9082708844101529, 0.9022755530892858, 0.8992683395827324, 0.9003345352740162, 0.9032862128641477, 0.8939137327847206, 0.8937009394360523, 0.905761053584894, 0.8965717238727046, 0.8974234877415634, 0.8973086907324, 0.9003616698774216, 0.8980762789684665, 0.9005535116729948]\n"
     ]
    }
   ],
   "source": [
    "model = RandomForestRegressor()\n",
    "estimators = np.arange(10, 300, 10)\n",
    "scores = []\n",
    "for n in estimators:\n",
    "    model.set_params(n_estimators=n)\n",
    "    model.fit(X_train, y_train)\n",
    "    scores.append(model.score(X_test, y_test))\n",
    "       \n",
    "print(scores)"
   ]
  },
  {
   "cell_type": "code",
   "execution_count": 198,
   "metadata": {},
   "outputs": [
    {
     "data": {
      "text/plain": [
       "[<matplotlib.lines.Line2D at 0x2259d0eaba8>]"
      ]
     },
     "execution_count": 198,
     "metadata": {},
     "output_type": "execute_result"
    },
    {
     "data": {
      "image/png": "[encoded data removed]",
      "text/plain": [
       "<Figure size 432x288 with 1 Axes>"
      ]
     },
     "metadata": {},
     "output_type": "display_data"
    }
   ],
   "source": [
    "plt.title(\"Random Forest Regressor - Effect of n_estimators\")\n",
    "plt.xlabel(\"n_estimator\")\n",
    "plt.ylabel(\"score\")\n",
    "plt.plot(estimators, scores)"
   ]
  },
  {
   "cell_type": "markdown",
   "metadata": {},
   "source": [
    "#### 2) I try using AdaBoostClassifier"
   ]
  },
  {
   "cell_type": "code",
   "execution_count": 232,
   "metadata": {},
   "outputs": [
    {
     "name": "stdout",
     "output_type": "stream",
     "text": [
      "The Estimator 100 has a score of [0.92307692 0.88       0.85714286 0.95918367 0.95918367]\n",
      "The Estimator 300 has a score of [0.94230769 0.9        0.87755102 0.89795918 0.95918367]\n",
      "The Estimator 500 has a score of [0.92307692 0.9        0.89795918 0.87755102 0.95918367]\n",
      "The Estimator 700 has a score of [0.86538462 0.9        0.89795918 0.87755102 0.95918367]\n",
      "The Estimator 900 has a score of [0.90384615 0.92       0.91836735 0.91836735 0.95918367]\n",
      "The Estimator 1100 has a score of [0.86538462 0.92       0.93877551 0.91836735 0.95918367]\n",
      "The Estimator 1300 has a score of [0.86538462 0.92       0.93877551 0.91836735 0.95918367]\n",
      "The Estimator 1500 has a score of [0.84615385 0.92       0.91836735 0.91836735 0.95918367]\n",
      "The Estimator 1700 has a score of [0.86538462 0.92       0.91836735 0.91836735 0.95918367]\n",
      "The Estimator 1900 has a score of [0.86538462 0.92       0.91836735 0.91836735 0.93877551]\n"
     ]
    }
   ],
   "source": [
    "from sklearn.ensemble import AdaBoostClassifier\n",
    "from sklearn.model_selection import cross_val_score\n",
    "estimators = np.arange(100, 2000, 200)\n",
    "scores = []\n",
    "for n in estimators:\n",
    "    clf = AdaBoostClassifier(learning_rate = 0.1,n_estimators = n,random_state=42)\n",
    "    clf_check = clf.fit(X_train,y_train)\n",
    "    score = cross_val_score(clf, X_train, y_train, cv=5)\n",
    "    scores.append(score)\n",
    "    print('The Estimator {} has a score of {}'.format(n,score))"
   ]
  },
  {
   "cell_type": "code",
   "execution_count": 242,
   "metadata": {},
   "outputs": [
    {
     "data": {
      "text/plain": [
       "[<matplotlib.lines.Line2D at 0x2259bdaba90>,\n",
       " <matplotlib.lines.Line2D at 0x2259e45de10>,\n",
       " <matplotlib.lines.Line2D at 0x2259e45df60>,\n",
       " <matplotlib.lines.Line2D at 0x2259bdee0f0>,\n",
       " <matplotlib.lines.Line2D at 0x2259bdee240>]"
      ]
     },
     "execution_count": 242,
     "metadata": {},
     "output_type": "execute_result"
    },
    {
     "data": {
      "image/png": "[encoded data removed]",
      "text/plain": [
       "<Figure size 432x288 with 1 Axes>"
      ]
     },
     "metadata": {},
     "output_type": "display_data"
    }
   ],
   "source": [
    "plt.title(\"AdaBoost Classifier - Effect of n_estimators\")\n",
    "plt.xlabel(\"n_estimator\")\n",
    "plt.ylabel(\"score\")\n",
    "plt.plot(estimators, scores)"
   ]
  },
  {
   "cell_type": "markdown",
   "metadata": {},
   "source": [
    "#### 3) I try using GradientBoostingClassifier"
   ]
  },
  {
   "cell_type": "code",
   "execution_count": 235,
   "metadata": {},
   "outputs": [
    {
     "data": {
      "text/plain": [
       "0.9722222222222222"
      ]
     },
     "execution_count": 235,
     "metadata": {},
     "output_type": "execute_result"
    }
   ],
   "source": [
    "from sklearn.ensemble import GradientBoostingClassifier\n",
    "clf = GradientBoostingClassifier(n_estimators=100, learning_rate=1.0,max_depth=1, random_state=0).fit(X_train, y_train)\n",
    "clf.score(X_test,y_test)"
   ]
  },
  {
   "cell_type": "markdown",
   "metadata": {},
   "source": [
    "#### 4) Lastly I use an ensemble of classifiers. Hoping this gives better results. Since ensembles are better than individual algorithm runs"
   ]
  },
  {
   "cell_type": "code",
   "execution_count": 241,
   "metadata": {},
   "outputs": [
    {
     "name": "stdout",
     "output_type": "stream",
     "text": [
      "The ensembled model with RandomForestRegressor, AdaBoostClassifier and GradientBoostingClassifier: 0.9444444444444444\n"
     ]
    }
   ],
   "source": [
    "rfr = RandomForestRegressor()\n",
    "abc = AdaBoostClassifier()\n",
    "gbc = GradientBoostingClassifier()\n",
    "rfr_abc_gbc = VotingClassifier(estimators=[('AdaBoostClassifier',abc), ('GradientBoostingClassifier', gbc)], voting='soft', weights=[2,1]).fit(X_train,y_train)\n",
    "print('The ensembled model with RandomForestRegressor, AdaBoostClassifier and GradientBoostingClassifier:', rfr_abc_gbc.score(X_test,y_test))"
   ]
  },
  {
   "cell_type": "markdown",
   "metadata": {},
   "source": [
    "###### I couldnt use GradientBoostingClassifier in the ensemble testing because it doesnt have predict_prob facility"
   ]
  },
  {
   "cell_type": "code",
   "execution_count": 236,
   "metadata": {},
   "outputs": [
    {
     "name": "stdout",
     "output_type": "stream",
     "text": [
      "The ensembled model with Guassian Naive Bayes, Multilayer Perceptron, and Logistic Regression: 0.9074074074074074\n"
     ]
    }
   ],
   "source": [
    "from sklearn.naive_bayes import GaussianNB\n",
    "from sklearn.neural_network import MLPClassifier\n",
    "from sklearn.linear_model import LogisticRegression\n",
    "mlp = MLPClassifier()\n",
    "gnb = GaussianNB()\n",
    "lr = LogisticRegression()\n",
    "gnb_mlp_lr=VotingClassifier(estimators=[('Guassian Naive Bayes', gnb),('Multilayer Perceptron',mlp), ('Logistic Regression', lr)], voting='soft', weights=[3,2,1]).fit(X_train,y_train)\n",
    "print('The ensembled model with Guassian Naive Bayes, Multilayer Perceptron, and Logistic Regression:',gnb_mlp_lr.score(X_test,y_test))"
   ]
  }
 ],
 "metadata": {
  "kernelspec": {
   "display_name": "Python 3",
   "language": "python",
   "name": "python3"
  },
  "language_info": {
   "codemirror_mode": {
    "name": "ipython",
    "version": 3
   },
   "file_extension": ".py",
   "mimetype": "text/x-python",
   "name": "python",
   "nbconvert_exporter": "python",
   "pygments_lexer": "ipython3",
   "version": "3.6.5"
  }
 },
 "nbformat": 4,
 "nbformat_minor": 2
}
